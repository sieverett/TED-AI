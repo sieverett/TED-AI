{
 "cells": [
  {
   "cell_type": "code",
   "execution_count": 1,
   "metadata": {},
   "outputs": [
    {
     "ename": "OSError",
     "evalue": "no library called \"cairo-2\" was found\nno library called \"cairo\" was found\nno library called \"libcairo-2\" was found\ncannot load library 'libcairo.so.2': libcairo.so.2: cannot open shared object file: No such file or directory.  Additionally, ctypes.util.find_library() did not manage to locate a library called 'libcairo.so.2'\ncannot load library 'libcairo.2.dylib': libcairo.2.dylib: cannot open shared object file: No such file or directory.  Additionally, ctypes.util.find_library() did not manage to locate a library called 'libcairo.2.dylib'\ncannot load library 'libcairo-2.dll': libcairo-2.dll: cannot open shared object file: No such file or directory.  Additionally, ctypes.util.find_library() did not manage to locate a library called 'libcairo-2.dll'",
     "output_type": "error",
     "traceback": [
      "\u001b[0;31m---------------------------------------------------------------------------\u001b[0m",
      "\u001b[0;31mOSError\u001b[0m                                   Traceback (most recent call last)",
      "\u001b[1;32m/workspaces/hello/playground.ipynb Cell 1\u001b[0m line \u001b[0;36m1\n\u001b[0;32m----> <a href='vscode-notebook-cell://codespaces%2Bcongenial-space-orbit-jxpgvqpp6ghq4pr/workspaces/hello/playground.ipynb#W1sdnNjb2RlLXJlbW90ZQ%3D%3D?line=0'>1</a>\u001b[0m \u001b[39mfrom\u001b[39;00m \u001b[39mcairosvg\u001b[39;00m \u001b[39mimport\u001b[39;00m svg2png\n\u001b[1;32m      <a href='vscode-notebook-cell://codespaces%2Bcongenial-space-orbit-jxpgvqpp6ghq4pr/workspaces/hello/playground.ipynb#W1sdnNjb2RlLXJlbW90ZQ%3D%3D?line=2'>3</a>\u001b[0m svg_code \u001b[39m=\u001b[39m \u001b[39m\"\"\"\u001b[39m\n\u001b[1;32m      <a href='vscode-notebook-cell://codespaces%2Bcongenial-space-orbit-jxpgvqpp6ghq4pr/workspaces/hello/playground.ipynb#W1sdnNjb2RlLXJlbW90ZQ%3D%3D?line=3'>4</a>\u001b[0m \u001b[39m    <svg xmlns=\u001b[39m\u001b[39m\"\u001b[39m\u001b[39mhttp://www.w3.org/2000/svg\u001b[39m\u001b[39m\"\u001b[39m\u001b[39m width=\u001b[39m\u001b[39m\"\u001b[39m\u001b[39m24\u001b[39m\u001b[39m\"\u001b[39m\u001b[39m height=\u001b[39m\u001b[39m\"\u001b[39m\u001b[39m24\u001b[39m\u001b[39m\"\u001b[39m\u001b[39m viewBox=\u001b[39m\u001b[39m\"\u001b[39m\u001b[39m0 0 24 24\u001b[39m\u001b[39m\"\u001b[39m\u001b[39m fill=\u001b[39m\u001b[39m\"\u001b[39m\u001b[39mnone\u001b[39m\u001b[39m\"\u001b[39m\u001b[39m stroke=\u001b[39m\u001b[39m\"\u001b[39m\u001b[39m#000\u001b[39m\u001b[39m\"\u001b[39m\u001b[39m stroke-width=\u001b[39m\u001b[39m\"\u001b[39m\u001b[39m2\u001b[39m\u001b[39m\"\u001b[39m\u001b[39m stroke-linecap=\u001b[39m\u001b[39m\"\u001b[39m\u001b[39mround\u001b[39m\u001b[39m\"\u001b[39m\u001b[39m stroke-linejoin=\u001b[39m\u001b[39m\"\u001b[39m\u001b[39mround\u001b[39m\u001b[39m\"\u001b[39m\u001b[39m>\u001b[39m\n\u001b[1;32m      <a href='vscode-notebook-cell://codespaces%2Bcongenial-space-orbit-jxpgvqpp6ghq4pr/workspaces/hello/playground.ipynb#W1sdnNjb2RlLXJlbW90ZQ%3D%3D?line=4'>5</a>\u001b[0m \u001b[39m        <circle cx=\u001b[39m\u001b[39m\"\u001b[39m\u001b[39m12\u001b[39m\u001b[39m\"\u001b[39m\u001b[39m cy=\u001b[39m\u001b[39m\"\u001b[39m\u001b[39m12\u001b[39m\u001b[39m\"\u001b[39m\u001b[39m r=\u001b[39m\u001b[39m\"\u001b[39m\u001b[39m10\u001b[39m\u001b[39m\"\u001b[39m\u001b[39m/>\u001b[39m\n\u001b[0;32m   (...)\u001b[0m\n\u001b[1;32m      <a href='vscode-notebook-cell://codespaces%2Bcongenial-space-orbit-jxpgvqpp6ghq4pr/workspaces/hello/playground.ipynb#W1sdnNjb2RlLXJlbW90ZQ%3D%3D?line=7'>8</a>\u001b[0m \u001b[39m    </svg>\u001b[39m\n\u001b[1;32m      <a href='vscode-notebook-cell://codespaces%2Bcongenial-space-orbit-jxpgvqpp6ghq4pr/workspaces/hello/playground.ipynb#W1sdnNjb2RlLXJlbW90ZQ%3D%3D?line=8'>9</a>\u001b[0m \u001b[39m\"\"\"\u001b[39m\n\u001b[1;32m     <a href='vscode-notebook-cell://codespaces%2Bcongenial-space-orbit-jxpgvqpp6ghq4pr/workspaces/hello/playground.ipynb#W1sdnNjb2RlLXJlbW90ZQ%3D%3D?line=10'>11</a>\u001b[0m svg2png(bytestring\u001b[39m=\u001b[39msvg_code,write_to\u001b[39m=\u001b[39m\u001b[39m'\u001b[39m\u001b[39mTED_.png\u001b[39m\u001b[39m'\u001b[39m)\n",
      "File \u001b[0;32m~/.local/lib/python3.11/site-packages/cairosvg/__init__.py:26\u001b[0m\n\u001b[1;32m     22\u001b[0m VERSION \u001b[39m=\u001b[39m __version__ \u001b[39m=\u001b[39m (ROOT \u001b[39m/\u001b[39m \u001b[39m'\u001b[39m\u001b[39mVERSION\u001b[39m\u001b[39m'\u001b[39m)\u001b[39m.\u001b[39mread_text()\u001b[39m.\u001b[39mstrip()\n\u001b[1;32m     25\u001b[0m \u001b[39m# VERSION is used in the \"url\" module imported by \"surface\"\u001b[39;00m\n\u001b[0;32m---> 26\u001b[0m \u001b[39mfrom\u001b[39;00m \u001b[39m.\u001b[39;00m \u001b[39mimport\u001b[39;00m surface  \u001b[39m# noqa isort:skip\u001b[39;00m\n\u001b[1;32m     29\u001b[0m SURFACES \u001b[39m=\u001b[39m {\n\u001b[1;32m     30\u001b[0m     \u001b[39m'\u001b[39m\u001b[39mPDF\u001b[39m\u001b[39m'\u001b[39m: surface\u001b[39m.\u001b[39mPDFSurface,\n\u001b[1;32m     31\u001b[0m     \u001b[39m'\u001b[39m\u001b[39mPNG\u001b[39m\u001b[39m'\u001b[39m: surface\u001b[39m.\u001b[39mPNGSurface,\n\u001b[0;32m   (...)\u001b[0m\n\u001b[1;32m     34\u001b[0m     \u001b[39m'\u001b[39m\u001b[39mSVG\u001b[39m\u001b[39m'\u001b[39m: surface\u001b[39m.\u001b[39mSVGSurface,\n\u001b[1;32m     35\u001b[0m }\n\u001b[1;32m     38\u001b[0m \u001b[39mdef\u001b[39;00m \u001b[39msvg2svg\u001b[39m(bytestring\u001b[39m=\u001b[39m\u001b[39mNone\u001b[39;00m, \u001b[39m*\u001b[39m, file_obj\u001b[39m=\u001b[39m\u001b[39mNone\u001b[39;00m, url\u001b[39m=\u001b[39m\u001b[39mNone\u001b[39;00m, dpi\u001b[39m=\u001b[39m\u001b[39m96\u001b[39m,\n\u001b[1;32m     39\u001b[0m             parent_width\u001b[39m=\u001b[39m\u001b[39mNone\u001b[39;00m, parent_height\u001b[39m=\u001b[39m\u001b[39mNone\u001b[39;00m, scale\u001b[39m=\u001b[39m\u001b[39m1\u001b[39m, unsafe\u001b[39m=\u001b[39m\u001b[39mFalse\u001b[39;00m,\n\u001b[1;32m     40\u001b[0m             background_color\u001b[39m=\u001b[39m\u001b[39mNone\u001b[39;00m, negate_colors\u001b[39m=\u001b[39m\u001b[39mFalse\u001b[39;00m, invert_images\u001b[39m=\u001b[39m\u001b[39mFalse\u001b[39;00m,\n\u001b[1;32m     41\u001b[0m             write_to\u001b[39m=\u001b[39m\u001b[39mNone\u001b[39;00m, output_width\u001b[39m=\u001b[39m\u001b[39mNone\u001b[39;00m, output_height\u001b[39m=\u001b[39m\u001b[39mNone\u001b[39;00m):\n",
      "File \u001b[0;32m~/.local/lib/python3.11/site-packages/cairosvg/surface.py:9\u001b[0m\n\u001b[1;32m      6\u001b[0m \u001b[39mimport\u001b[39;00m \u001b[39mcopy\u001b[39;00m\n\u001b[1;32m      7\u001b[0m \u001b[39mimport\u001b[39;00m \u001b[39mio\u001b[39;00m\n\u001b[0;32m----> 9\u001b[0m \u001b[39mimport\u001b[39;00m \u001b[39mcairocffi\u001b[39;00m \u001b[39mas\u001b[39;00m \u001b[39mcairo\u001b[39;00m\n\u001b[1;32m     11\u001b[0m \u001b[39mfrom\u001b[39;00m \u001b[39m.\u001b[39;00m\u001b[39mcolors\u001b[39;00m \u001b[39mimport\u001b[39;00m color, negate_color\n\u001b[1;32m     12\u001b[0m \u001b[39mfrom\u001b[39;00m \u001b[39m.\u001b[39;00m\u001b[39mdefs\u001b[39;00m \u001b[39mimport\u001b[39;00m (\n\u001b[1;32m     13\u001b[0m     apply_filter_after_painting, apply_filter_before_painting, clip_path,\n\u001b[1;32m     14\u001b[0m     filter_, gradient_or_pattern, linear_gradient, marker, mask, paint_mask,\n\u001b[1;32m     15\u001b[0m     parse_all_defs, pattern, prepare_filter, radial_gradient, use)\n",
      "File \u001b[0;32m~/.local/lib/python3.11/site-packages/cairocffi/__init__.py:47\u001b[0m\n\u001b[1;32m     42\u001b[0m     error_message \u001b[39m=\u001b[39m \u001b[39m'\u001b[39m\u001b[39m\\n\u001b[39;00m\u001b[39m'\u001b[39m\u001b[39m.\u001b[39mjoin(  \u001b[39m# pragma: no cover\u001b[39;00m\n\u001b[1;32m     43\u001b[0m         \u001b[39mstr\u001b[39m(exception) \u001b[39mfor\u001b[39;00m exception \u001b[39min\u001b[39;00m exceptions)\n\u001b[1;32m     44\u001b[0m     \u001b[39mraise\u001b[39;00m \u001b[39mOSError\u001b[39;00m(error_message)  \u001b[39m# pragma: no cover\u001b[39;00m\n\u001b[0;32m---> 47\u001b[0m cairo \u001b[39m=\u001b[39m dlopen(\n\u001b[1;32m     48\u001b[0m     ffi, (\u001b[39m'\u001b[39;49m\u001b[39mcairo-2\u001b[39;49m\u001b[39m'\u001b[39;49m, \u001b[39m'\u001b[39;49m\u001b[39mcairo\u001b[39;49m\u001b[39m'\u001b[39;49m, \u001b[39m'\u001b[39;49m\u001b[39mlibcairo-2\u001b[39;49m\u001b[39m'\u001b[39;49m),\n\u001b[1;32m     49\u001b[0m     (\u001b[39m'\u001b[39;49m\u001b[39mlibcairo.so.2\u001b[39;49m\u001b[39m'\u001b[39;49m, \u001b[39m'\u001b[39;49m\u001b[39mlibcairo.2.dylib\u001b[39;49m\u001b[39m'\u001b[39;49m, \u001b[39m'\u001b[39;49m\u001b[39mlibcairo-2.dll\u001b[39;49m\u001b[39m'\u001b[39;49m))\n\u001b[1;32m     52\u001b[0m \u001b[39mclass\u001b[39;00m \u001b[39m_keepref\u001b[39;00m(\u001b[39mobject\u001b[39m):\n\u001b[1;32m     53\u001b[0m \u001b[39m    \u001b[39m\u001b[39m\"\"\"Function wrapper that keeps a reference to another object.\"\"\"\u001b[39;00m\n",
      "File \u001b[0;32m~/.local/lib/python3.11/site-packages/cairocffi/__init__.py:44\u001b[0m, in \u001b[0;36mdlopen\u001b[0;34m(ffi, library_names, filenames)\u001b[0m\n\u001b[1;32m     40\u001b[0m         exceptions\u001b[39m.\u001b[39mappend(exception)\n\u001b[1;32m     42\u001b[0m error_message \u001b[39m=\u001b[39m \u001b[39m'\u001b[39m\u001b[39m\\n\u001b[39;00m\u001b[39m'\u001b[39m\u001b[39m.\u001b[39mjoin(  \u001b[39m# pragma: no cover\u001b[39;00m\n\u001b[1;32m     43\u001b[0m     \u001b[39mstr\u001b[39m(exception) \u001b[39mfor\u001b[39;00m exception \u001b[39min\u001b[39;00m exceptions)\n\u001b[0;32m---> 44\u001b[0m \u001b[39mraise\u001b[39;00m \u001b[39mOSError\u001b[39;00m(error_message)\n",
      "\u001b[0;31mOSError\u001b[0m: no library called \"cairo-2\" was found\nno library called \"cairo\" was found\nno library called \"libcairo-2\" was found\ncannot load library 'libcairo.so.2': libcairo.so.2: cannot open shared object file: No such file or directory.  Additionally, ctypes.util.find_library() did not manage to locate a library called 'libcairo.so.2'\ncannot load library 'libcairo.2.dylib': libcairo.2.dylib: cannot open shared object file: No such file or directory.  Additionally, ctypes.util.find_library() did not manage to locate a library called 'libcairo.2.dylib'\ncannot load library 'libcairo-2.dll': libcairo-2.dll: cannot open shared object file: No such file or directory.  Additionally, ctypes.util.find_library() did not manage to locate a library called 'libcairo-2.dll'"
     ]
    }
   ],
   "source": [
    "from cairosvg import svg2png\n",
    "\n",
    "svg_code = \"\"\"\n",
    "    <svg xmlns=\"http://www.w3.org/2000/svg\" width=\"24\" height=\"24\" viewBox=\"0 0 24 24\" fill=\"none\" stroke=\"#000\" stroke-width=\"2\" stroke-linecap=\"round\" stroke-linejoin=\"round\">\n",
    "        <circle cx=\"12\" cy=\"12\" r=\"10\"/>\n",
    "        <line x1=\"12\" y1=\"8\" x2=\"12\" y2=\"12\"/>\n",
    "        <line x1=\"12\" y1=\"16\" x2=\"12\" y2=\"16\"/>\n",
    "    </svg>\n",
    "\"\"\"\n",
    "\n",
    "svg2png(bytestring=svg_code,write_to='TED_.png')"
   ]
  },
  {
   "cell_type": "code",
   "execution_count": 3,
   "metadata": {},
   "outputs": [
    {
     "name": "stdout",
     "output_type": "stream",
     "text": [
      "--2023-11-10 21:55:44--  https://img.freepik.com/free-vector/hot-dog-street-snack-isolated-transparent_107791-18353.jpg\n",
      "Resolving img.freepik.com (img.freepik.com)... 173.223.163.205, 173.223.163.197, 2600:141b:800::1726:a8c1, ...\n",
      "Connecting to img.freepik.com (img.freepik.com)|173.223.163.205|:443... connected.\n",
      "HTTP request sent, awaiting response... 200 OK\n",
      "Length: 61423 (60K) [image/jpeg]\n",
      "Saving to: ‘hot-dog-street-snack-isolated-transparent_107791-18353.jpg’\n",
      "\n",
      "hot-dog-street-snac 100%[===================>]  59.98K   350KB/s    in 0.2s    \n",
      "\n",
      "2023-11-10 21:55:45 (350 KB/s) - ‘hot-dog-street-snack-isolated-transparent_107791-18353.jpg’ saved [61423/61423]\n",
      "\n"
     ]
    }
   ],
   "source": [
    "!wget https://img.freepik.com/free-vector/hot-dog-street-snack-isolated-transparent_107791-18353.jpg"
   ]
  },
  {
   "cell_type": "code",
   "execution_count": 6,
   "metadata": {},
   "outputs": [
    {
     "name": "stdout",
     "output_type": "stream",
     "text": [
      "Defaulting to user installation because normal site-packages is not writeable\n",
      "Requirement already satisfied: CairoSVG in /home/vscode/.local/lib/python3.11/site-packages (2.7.1)\n",
      "Requirement already satisfied: cairocffi in /home/vscode/.local/lib/python3.11/site-packages (from CairoSVG) (1.6.1)\n",
      "Requirement already satisfied: cssselect2 in /home/vscode/.local/lib/python3.11/site-packages (from CairoSVG) (0.7.0)\n",
      "Requirement already satisfied: defusedxml in /home/vscode/.local/lib/python3.11/site-packages (from CairoSVG) (0.7.1)\n",
      "Requirement already satisfied: pillow in /home/vscode/.local/lib/python3.11/site-packages (from CairoSVG) (10.0.1)\n",
      "Requirement already satisfied: tinycss2 in /home/vscode/.local/lib/python3.11/site-packages (from CairoSVG) (1.2.1)\n",
      "Requirement already satisfied: cffi>=1.1.0 in /home/vscode/.local/lib/python3.11/site-packages (from cairocffi->CairoSVG) (1.16.0)\n",
      "Requirement already satisfied: webencodings in /home/vscode/.local/lib/python3.11/site-packages (from cssselect2->CairoSVG) (0.5.1)\n",
      "Requirement already satisfied: pycparser in /home/vscode/.local/lib/python3.11/site-packages (from cffi>=1.1.0->cairocffi->CairoSVG) (2.21)\n"
     ]
    }
   ],
   "source": [
    "!pip install CairoSVG"
   ]
  },
  {
   "cell_type": "code",
   "execution_count": 2,
   "metadata": {},
   "outputs": [
    {
     "name": "stdout",
     "output_type": "stream",
     "text": [
      "Defaulting to user installation because normal site-packages is not writeable\n",
      "Collecting matplotlib\n",
      "  Downloading matplotlib-3.8.1-cp311-cp311-manylinux_2_17_x86_64.manylinux2014_x86_64.whl.metadata (5.8 kB)\n",
      "Collecting contourpy>=1.0.1 (from matplotlib)\n",
      "  Downloading contourpy-1.2.0-cp311-cp311-manylinux_2_17_x86_64.manylinux2014_x86_64.whl.metadata (5.8 kB)\n",
      "Collecting cycler>=0.10 (from matplotlib)\n",
      "  Downloading cycler-0.12.1-py3-none-any.whl.metadata (3.8 kB)\n",
      "Collecting fonttools>=4.22.0 (from matplotlib)\n",
      "  Downloading fonttools-4.44.0-cp311-cp311-manylinux_2_17_x86_64.manylinux2014_x86_64.whl.metadata (153 kB)\n",
      "\u001b[2K     \u001b[90m━━━━━━━━━━━━━━━━━━━━━━━━━━━━━━━━━━━━━━━\u001b[0m \u001b[32m153.6/153.6 kB\u001b[0m \u001b[31m4.7 MB/s\u001b[0m eta \u001b[36m0:00:00\u001b[0m\n",
      "\u001b[?25hCollecting kiwisolver>=1.3.1 (from matplotlib)\n",
      "  Downloading kiwisolver-1.4.5-cp311-cp311-manylinux_2_17_x86_64.manylinux2014_x86_64.whl.metadata (6.4 kB)\n",
      "Requirement already satisfied: numpy<2,>=1.21 in /home/vscode/.local/lib/python3.11/site-packages (from matplotlib) (1.26.1)\n",
      "Requirement already satisfied: packaging>=20.0 in /home/vscode/.local/lib/python3.11/site-packages (from matplotlib) (23.2)\n",
      "Requirement already satisfied: pillow>=8 in /home/vscode/.local/lib/python3.11/site-packages (from matplotlib) (10.0.1)\n",
      "Collecting pyparsing>=2.3.1 (from matplotlib)\n",
      "  Downloading pyparsing-3.1.1-py3-none-any.whl.metadata (5.1 kB)\n",
      "Requirement already satisfied: python-dateutil>=2.7 in /home/vscode/.local/lib/python3.11/site-packages (from matplotlib) (2.8.2)\n",
      "Requirement already satisfied: six>=1.5 in /home/vscode/.local/lib/python3.11/site-packages (from python-dateutil>=2.7->matplotlib) (1.16.0)\n",
      "Downloading matplotlib-3.8.1-cp311-cp311-manylinux_2_17_x86_64.manylinux2014_x86_64.whl (11.6 MB)\n",
      "\u001b[2K   \u001b[90m━━━━━━━━━━━━━━━━━━━━━━━━━━━━━━━━━━━━━━━━\u001b[0m \u001b[32m11.6/11.6 MB\u001b[0m \u001b[31m53.2 MB/s\u001b[0m eta \u001b[36m0:00:00\u001b[0m:00:01\u001b[0m00:01\u001b[0m\n",
      "\u001b[?25hDownloading contourpy-1.2.0-cp311-cp311-manylinux_2_17_x86_64.manylinux2014_x86_64.whl (313 kB)\n",
      "\u001b[2K   \u001b[90m━━━━━━━━━━━━━━━━━━━━━━━━━━━━━━━━━━━━━━━━\u001b[0m \u001b[32m313.4/313.4 kB\u001b[0m \u001b[31m10.0 MB/s\u001b[0m eta \u001b[36m0:00:00\u001b[0m\n",
      "\u001b[?25hDownloading cycler-0.12.1-py3-none-any.whl (8.3 kB)\n",
      "Downloading fonttools-4.44.0-cp311-cp311-manylinux_2_17_x86_64.manylinux2014_x86_64.whl (4.8 MB)\n",
      "\u001b[2K   \u001b[90m━━━━━━━━━━━━━━━━━━━━━━━━━━━━━━━━━━━━━━━━\u001b[0m \u001b[32m4.8/4.8 MB\u001b[0m \u001b[31m49.0 MB/s\u001b[0m eta \u001b[36m0:00:00\u001b[0m:00:01\u001b[0m\n",
      "\u001b[?25hDownloading kiwisolver-1.4.5-cp311-cp311-manylinux_2_17_x86_64.manylinux2014_x86_64.whl (1.4 MB)\n",
      "\u001b[2K   \u001b[90m━━━━━━━━━━━━━━━━━━━━━━━━━━━━━━━━━━━━━━━━\u001b[0m \u001b[32m1.4/1.4 MB\u001b[0m \u001b[31m27.5 MB/s\u001b[0m eta \u001b[36m0:00:00\u001b[0m:00:01\u001b[0m\n",
      "\u001b[?25hDownloading pyparsing-3.1.1-py3-none-any.whl (103 kB)\n",
      "\u001b[2K   \u001b[90m━━━━━━━━━━━━━━━━━━━━━━━━━━━━━━━━━━━━━━━━\u001b[0m \u001b[32m103.1/103.1 kB\u001b[0m \u001b[31m3.4 MB/s\u001b[0m eta \u001b[36m0:00:00\u001b[0m\n",
      "\u001b[?25hInstalling collected packages: pyparsing, kiwisolver, fonttools, cycler, contourpy, matplotlib\n",
      "Successfully installed contourpy-1.2.0 cycler-0.12.1 fonttools-4.44.0 kiwisolver-1.4.5 matplotlib-3.8.1 pyparsing-3.1.1\n"
     ]
    }
   ],
   "source": [
    "!pip install matplotlib"
   ]
  },
  {
   "cell_type": "code",
   "execution_count": 3,
   "metadata": {},
   "outputs": [
    {
     "data": {
      "image/png": "[encoded data removed]",
      "text/plain": [
       "<Figure size 640x480 with 1 Axes>"
      ]
     },
     "metadata": {},
     "output_type": "display_data"
    }
   ],
   "source": [
    "import matplotlib.pyplot as plt\n",
    "import matplotlib.patches as patches\n",
    "\n",
    "# Create a new figure\n",
    "fig, ax = plt.subplots()\n",
    "\n",
    "# Add a circle for the main part of the hand\n",
    "main_hand = patches.Circle((0.5, 0.5), 0.4, color='peachpuff')\n",
    "ax.add_patch(main_hand)\n",
    "\n",
    "# Add ovals for fingers\n",
    "fingers = [\n",
    "    patches.Ellipse((0.8, 0.7), 0.2, 0.1, angle=45, color='peachpuff'),\n",
    "    patches.Ellipse((0.7, 0.8), 0.2, 0.1, angle=45, color='peachpuff'),\n",
    "    patches.Ellipse((0.6, 0.85), 0.2, 0.1, angle=45, color='peachpuff'),\n",
    "    patches.Ellipse((0.5, 0.9), 0.2, 0.1, angle=45, color='peachpuff'),\n",
    "]\n",
    "\n",
    "for finger in fingers:\n",
    "    ax.add_patch(finger)\n",
    "\n",
    "# Set limits and aspect\n",
    "ax.set_xlim(0, 1)\n",
    "ax.set_ylim(0, 1)\n",
    "ax.set_aspect('equal', 'box')\n",
    "ax.axis('off')  # Turn off the axis\n",
    "\n",
    "plt.show()"
   ]
  },
  {
   "cell_type": "code",
   "execution_count": 7,
   "metadata": {},
   "outputs": [],
   "source": [
    "s=\"\"\"openai\n",
    "langchain\n",
    "faiss-cpu\n",
    "tiktoken\n",
    "moviepy\n",
    "ffmpeg_python==0.2.0\n",
    "librosa==0.9.2\n",
    "mutagen==1.47.0\n",
    "pandas==2.0.3\n",
    "Pillow==10.0.1\n",
    "Pillow==10.1.0\n",
    "pydub==0.25.1\n",
    "python-dotenv==1.0.0\n",
    "pytube==15.0.0\n",
    "SpeechRecognition==3.10.0\n",
    "tqdm==4.66.1\n",
    "youtube_search_python==1.6.6\n",
    "youtube_transcript_api==0.6.1\n",
    "yt_dlp==2023.10.13\"\"\""
   ]
  },
  {
   "cell_type": "code",
   "execution_count": 10,
   "metadata": {},
   "outputs": [
    {
     "data": {
      "text/plain": [
       "'openai langchain faiss-cpu tiktoken moviepy ffmpeg_python librosa mutagen pandas Pillow Pillow pydub python-dotenv pytube SpeechRecognition tqdm youtube_search_python youtube_transcript_api yt_dlp'"
      ]
     },
     "execution_count": 10,
     "metadata": {},
     "output_type": "execute_result"
    }
   ],
   "source": [
    "\" \".join([i.split(\"==\")[0] for i in s.split('\\n')])"
   ]
  },
  {
   "cell_type": "code",
   "execution_count": 1,
   "metadata": {},
   "outputs": [],
   "source": [
    "import pandas as pd"
   ]
  },
  {
   "cell_type": "code",
   "execution_count": 2,
   "metadata": {},
   "outputs": [
    {
     "data": {
      "text/plain": [
       "['ian bremmer',\n",
       " 'luis von ahn',\n",
       " 'terry moore',\n",
       " 'peter mcindoe',\n",
       " 'becky kennedy',\n",
       " 'al gore',\n",
       " 'barbara f. walter',\n",
       " 'jennifer doudna',\n",
       " 'coleman hughes',\n",
       " 'amy baxter',\n",
       " 'maya shankar',\n",
       " 'eliezer yudkowsky',\n",
       " 'na',\n",
       " 'ramón méndez galain',\n",
       " 'jennifer d. sciubba',\n",
       " 'alexandr wang',\n",
       " 'michael sheen',\n",
       " 'melissa villaseñor',\n",
       " 'karen bakker',\n",
       " 'stephen wolfram',\n",
       " 'emmanuel acho',\n",
       " 'robin buckley',\n",
       " 'mark mortensen',\n",
       " 'vinu daniel',\n",
       " 'na',\n",
       " 'na',\n",
       " 'refik anadol',\n",
       " 'dasha navalnaya',\n",
       " 'josephine philips',\n",
       " 'anna greka',\n",
       " 'max tegmark',\n",
       " 'hannah ritchie',\n",
       " 'na',\n",
       " 'bilawal sidhu',\n",
       " 'avinash persaud',\n",
       " 'annie rauwerda',\n",
       " 'eileen isagon skyers',\n",
       " 'david mcwilliams',\n",
       " 'krista tippett',\n",
       " 'na',\n",
       " 'na',\n",
       " 'bob wiltfong',\n",
       " 'yvonne newbold',\n",
       " 'na',\n",
       " 'george t. whitesides',\n",
       " 'na',\n",
       " 'na',\n",
       " 'maxim timchenko',\n",
       " 'na',\n",
       " 'sims witherspoon',\n",
       " 'na',\n",
       " 'na',\n",
       " 'al roker',\n",
       " 'nicos marcou',\n",
       " 'karen willcox',\n",
       " 'na',\n",
       " 'carlos rodríguez-pastor',\n",
       " 'david burkus',\n",
       " 'natalie cargill',\n",
       " 'olivia breese',\n",
       " 'aisha nyandoro',\n",
       " 'misan harriman',\n",
       " 'jordan dinwiddie',\n",
       " 'simon stiell',\n",
       " 'stuart kauffman',\n",
       " 'andrew leland',\n",
       " 'changhua wu',\n",
       " 'lucas rizzotto',\n",
       " 'garry cooper',\n",
       " 'nicole rycroft',\n",
       " 'anika goss',\n",
       " 'taylor cassidy',\n",
       " 'steve presley',\n",
       " 'sarah aviram',\n",
       " 'na',\n",
       " 'sarah jones',\n",
       " 'ersin han ersin',\n",
       " 'roy wood jr.',\n",
       " 'oleksandra matviichuk',\n",
       " 'k allado-mcdowell',\n",
       " 'amy powney',\n",
       " 'emma nehrenheim',\n",
       " 'asmeret asefaw berhe',\n",
       " 'tavares strachan',\n",
       " 'sarah kay',\n",
       " 'bo cerup-simonsen',\n",
       " 'na',\n",
       " 'wanjira mathai',\n",
       " 'sandersan onie',\n",
       " 'morten bo christiansen',\n",
       " 'tolliver',\n",
       " 'jim whitaker and jessica whitaker allen',\n",
       " 'piyachart phiromswad',\n",
       " 'rebecca collyer',\n",
       " 'david lammy and justin j. pearson',\n",
       " 'how to be a better human',\n",
       " 'kala constantino',\n",
       " 'lucy mcbath',\n",
       " 'payton m. wilkins',\n",
       " 'paul hawken']"
      ]
     },
     "execution_count": 2,
     "metadata": {},
     "output_type": "execute_result"
    }
   ],
   "source": [
    "import pandas as pd\n",
    "df=pd.read_csv(\"TED_playlist_info.csv\")\n",
    "\n",
    "df.presenter.to_list()"
   ]
  },
  {
   "cell_type": "code",
   "execution_count": 3,
   "metadata": {},
   "outputs": [
    {
     "data": {
      "text/plain": [
       "['Ian Bremmer',\n",
       " 'Luis Von Ahn',\n",
       " 'Terry Moore',\n",
       " 'Peter Mcindoe',\n",
       " 'Becky Kennedy',\n",
       " 'Al Gore',\n",
       " 'Barbara F. Walter',\n",
       " 'Jennifer Doudna',\n",
       " 'Coleman Hughes',\n",
       " 'Amy Baxter',\n",
       " 'Maya Shankar',\n",
       " 'Eliezer Yudkowsky',\n",
       " 'Ramón Méndez Galain',\n",
       " 'Jennifer D. Sciubba',\n",
       " 'Alexandr Wang',\n",
       " 'Michael Sheen',\n",
       " 'Melissa Villaseñor',\n",
       " 'Karen Bakker',\n",
       " 'Stephen Wolfram',\n",
       " 'Emmanuel Acho',\n",
       " 'Robin Buckley',\n",
       " 'Mark Mortensen',\n",
       " 'Vinu Daniel',\n",
       " 'Refik Anadol',\n",
       " 'Dasha Navalnaya',\n",
       " 'Josephine Philips',\n",
       " 'Anna Greka',\n",
       " 'Max Tegmark',\n",
       " 'Hannah Ritchie',\n",
       " 'Bilawal Sidhu',\n",
       " 'Avinash Persaud',\n",
       " 'Annie Rauwerda',\n",
       " 'Eileen Isagon Skyers',\n",
       " 'David Mcwilliams',\n",
       " 'Krista Tippett',\n",
       " 'Bob Wiltfong',\n",
       " 'Yvonne Newbold',\n",
       " 'George T. Whitesides',\n",
       " 'Maxim Timchenko',\n",
       " 'Sims Witherspoon',\n",
       " 'Al Roker',\n",
       " 'Nicos Marcou',\n",
       " 'Karen Willcox',\n",
       " 'Carlos Rodríguez-pastor',\n",
       " 'David Burkus',\n",
       " 'Natalie Cargill',\n",
       " 'Olivia Breese',\n",
       " 'Aisha Nyandoro',\n",
       " 'Misan Harriman',\n",
       " 'Jordan Dinwiddie',\n",
       " 'Simon Stiell',\n",
       " 'Stuart Kauffman',\n",
       " 'Andrew Leland',\n",
       " 'Changhua Wu',\n",
       " 'Lucas Rizzotto',\n",
       " 'Garry Cooper',\n",
       " 'Nicole Rycroft',\n",
       " 'Anika Goss',\n",
       " 'Taylor Cassidy',\n",
       " 'Steve Presley',\n",
       " 'Sarah Aviram',\n",
       " 'Sarah Jones',\n",
       " 'Ersin Han Ersin',\n",
       " 'Roy Wood Jr.',\n",
       " 'Oleksandra Matviichuk',\n",
       " 'K Allado-mcdowell',\n",
       " 'Amy Powney',\n",
       " 'Emma Nehrenheim',\n",
       " 'Asmeret Asefaw Berhe',\n",
       " 'Tavares Strachan',\n",
       " 'Sarah Kay',\n",
       " 'Bo Cerup-simonsen',\n",
       " 'Wanjira Mathai',\n",
       " 'Sandersan Onie',\n",
       " 'Morten Bo Christiansen',\n",
       " 'Tolliver',\n",
       " 'Jim Whitaker And Jessica Whitaker Allen',\n",
       " 'Piyachart Phiromswad',\n",
       " 'Rebecca Collyer',\n",
       " 'David Lammy And Justin J. Pearson',\n",
       " 'How To Be A Better Human',\n",
       " 'Kala Constantino',\n",
       " 'Lucy Mcbath',\n",
       " 'Payton M. Wilkins',\n",
       " 'Paul Hawken']"
      ]
     },
     "execution_count": 3,
     "metadata": {},
     "output_type": "execute_result"
    }
   ],
   "source": [
    "names=df.presenter.to_list()\n",
    "g=\"people like caps\"\n",
    "[\" \".join([i.capitalize() for i in g.split(\" \")]) for g in names if g!='na']\n"
   ]
  },
  {
   "cell_type": "code",
   "execution_count": 10,
   "metadata": {},
   "outputs": [
    {
     "data": {
      "text/plain": [
       "{'ian bremmer': 'https://www.youtube.com/watch?v=wQmBsbt9blg&list=UUAuUUnT6oDeKwE6v1NGQxug&index=26&pp=iAQB',\n",
       " 'luis von ahn': 'https://www.youtube.com/watch?v=P6FORpg0KVo&list=UUAuUUnT6oDeKwE6v1NGQxug&index=9&pp=iAQB',\n",
       " 'terry moore': 'https://www.youtube.com/watch?v=XqUOgqlZ8bc&list=UUAuUUnT6oDeKwE6v1NGQxug&index=72&pp=iAQB',\n",
       " 'peter mcindoe': 'https://www.youtube.com/watch?v=3VEkzweBJPM&list=UUAuUUnT6oDeKwE6v1NGQxug&index=53&pp=iAQB',\n",
       " 'becky kennedy': 'https://www.youtube.com/watch?v=PHpPtdk9rco&list=UUAuUUnT6oDeKwE6v1NGQxug&index=51&pp=iAQB',\n",
       " 'al gore': 'https://www.youtube.com/watch?v=xgZC6da4mco&list=UUAuUUnT6oDeKwE6v1NGQxug&index=81&pp=iAQB',\n",
       " 'barbara f. walter': 'https://www.youtube.com/watch?v=Yilgr2SJ3xQ&list=UUAuUUnT6oDeKwE6v1NGQxug&index=73&pp=iAQB',\n",
       " 'jennifer doudna': 'https://www.youtube.com/watch?v=HANo__Z8K6s&list=UUAuUUnT6oDeKwE6v1NGQxug&index=37&pp=iAQB',\n",
       " 'coleman hughes': 'https://www.youtube.com/watch?v=QxB3b7fxMEA&list=UUAuUUnT6oDeKwE6v1NGQxug&index=79&pp=iAQB',\n",
       " 'amy baxter': 'https://www.youtube.com/watch?v=5SpaXqAQ4Wo&list=UUAuUUnT6oDeKwE6v1NGQxug&index=58&pp=iAQB',\n",
       " 'maya shankar': 'https://www.youtube.com/watch?v=Tt0arZN6EBM&list=UUAuUUnT6oDeKwE6v1NGQxug&index=89&pp=iAQB',\n",
       " 'eliezer yudkowsky': 'https://www.youtube.com/watch?v=Yd0yQ9yxSYY&list=UUAuUUnT6oDeKwE6v1NGQxug&index=99&pp=iAQB',\n",
       " 'na': 'https://www.youtube.com/watch?v=XezfOVE9RFM&list=UUAuUUnT6oDeKwE6v1NGQxug&index=11&pp=iAQB',\n",
       " 'ramón méndez galain': 'https://www.youtube.com/watch?v=7_3XJhFBvEk&list=UUAuUUnT6oDeKwE6v1NGQxug&index=33&pp=iAQB',\n",
       " 'jennifer d. sciubba': 'https://www.youtube.com/watch?v=PImDVT8fb-I&list=UUAuUUnT6oDeKwE6v1NGQxug&index=31&pp=iAQB',\n",
       " 'alexandr wang': 'https://www.youtube.com/watch?v=EpipswT-LuE&list=UUAuUUnT6oDeKwE6v1NGQxug&index=100&pp=iAQB',\n",
       " 'michael sheen': 'https://www.youtube.com/watch?v=cEG0Tp-iLuo&list=UUAuUUnT6oDeKwE6v1NGQxug&index=82&pp=iAQB',\n",
       " 'melissa villaseñor': 'https://www.youtube.com/watch?v=JFjv971_NZM&list=UUAuUUnT6oDeKwE6v1NGQxug&index=39&pp=iAQB',\n",
       " 'karen bakker': 'https://www.youtube.com/watch?v=FvchLmGiXfY&list=UUAuUUnT6oDeKwE6v1NGQxug&index=94&pp=iAQB',\n",
       " 'stephen wolfram': 'https://www.youtube.com/watch?v=fLMZAHyrpyo&list=UUAuUUnT6oDeKwE6v1NGQxug&index=5&pp=iAQB',\n",
       " 'emmanuel acho': 'https://www.youtube.com/watch?v=AA4N5ZFefqs&list=UUAuUUnT6oDeKwE6v1NGQxug&index=57&pp=iAQB',\n",
       " 'robin buckley': 'https://www.youtube.com/watch?v=h1yJYnCbNHM&list=UUAuUUnT6oDeKwE6v1NGQxug&index=35&pp=iAQB',\n",
       " 'mark mortensen': 'https://www.youtube.com/watch?v=8cF442d-EdQ&list=UUAuUUnT6oDeKwE6v1NGQxug&index=93&pp=iAQB',\n",
       " 'vinu daniel': 'https://www.youtube.com/watch?v=EumE_9qkXI8&list=UUAuUUnT6oDeKwE6v1NGQxug&index=80&pp=iAQB',\n",
       " 'refik anadol': 'https://www.youtube.com/watch?v=iz7diOuaTos&list=UUAuUUnT6oDeKwE6v1NGQxug&index=66&pp=iAQB',\n",
       " 'dasha navalnaya': 'https://www.youtube.com/watch?v=l4Lq7gaKW4A&list=UUAuUUnT6oDeKwE6v1NGQxug&index=21&pp=iAQB',\n",
       " 'josephine philips': 'https://www.youtube.com/watch?v=Bh8dnw67rE0&list=UUAuUUnT6oDeKwE6v1NGQxug&index=41&pp=iAQB',\n",
       " 'anna greka': 'https://www.youtube.com/watch?v=n0J1zCHURsQ&list=UUAuUUnT6oDeKwE6v1NGQxug&index=34&pp=iAQB',\n",
       " 'max tegmark': 'https://www.youtube.com/watch?v=xUNx_PxNHrY&list=UUAuUUnT6oDeKwE6v1NGQxug&index=3&pp=iAQB',\n",
       " 'hannah ritchie': 'https://www.youtube.com/watch?v=Kl3VVrggKz4&list=UUAuUUnT6oDeKwE6v1NGQxug&index=40&pp=iAQB',\n",
       " 'bilawal sidhu': 'https://www.youtube.com/watch?v=eZsVDMsBTCQ&list=UUAuUUnT6oDeKwE6v1NGQxug&index=61&pp=iAQB',\n",
       " 'avinash persaud': 'https://www.youtube.com/watch?v=8MyHLz6Spoc&list=UUAuUUnT6oDeKwE6v1NGQxug&index=70&pp=iAQB',\n",
       " 'annie rauwerda': 'https://www.youtube.com/watch?v=WCmeOccXRq8&list=UUAuUUnT6oDeKwE6v1NGQxug&index=14&pp=iAQB',\n",
       " 'eileen isagon skyers': 'https://www.youtube.com/watch?v=uA70ZGCC1f4&list=UUAuUUnT6oDeKwE6v1NGQxug&index=76&pp=iAQB',\n",
       " 'david mcwilliams': 'https://www.youtube.com/watch?v=hUPrUJ4F_Ro&list=UUAuUUnT6oDeKwE6v1NGQxug&index=4&pp=iAQB',\n",
       " 'krista tippett': 'https://www.youtube.com/watch?v=McX2ZovIrCg&list=UUAuUUnT6oDeKwE6v1NGQxug&index=24&pp=iAQB',\n",
       " 'bob wiltfong': 'https://www.youtube.com/watch?v=41fjuqBaUt4&list=UUAuUUnT6oDeKwE6v1NGQxug&index=56&pp=iAQB',\n",
       " 'yvonne newbold': 'https://www.youtube.com/watch?v=b2tcLJWNTWM&list=UUAuUUnT6oDeKwE6v1NGQxug&index=69&pp=iAQB',\n",
       " 'george t. whitesides': 'https://www.youtube.com/watch?v=M66jkJMH3DI&list=UUAuUUnT6oDeKwE6v1NGQxug&index=91&pp=iAQB',\n",
       " 'maxim timchenko': 'https://www.youtube.com/watch?v=jLkRvdPliaE&list=UUAuUUnT6oDeKwE6v1NGQxug&index=97&pp=iAQB',\n",
       " 'sims witherspoon': 'https://www.youtube.com/watch?v=RNhbqQefPSg&list=UUAuUUnT6oDeKwE6v1NGQxug&index=43&pp=iAQB',\n",
       " 'al roker': 'https://www.youtube.com/watch?v=dz7ccdJ1JfU&list=UUAuUUnT6oDeKwE6v1NGQxug&index=48&pp=iAQB',\n",
       " 'nicos marcou': 'https://www.youtube.com/watch?v=WMtyJw4NED8&list=UUAuUUnT6oDeKwE6v1NGQxug&index=20&pp=iAQB',\n",
       " 'karen willcox': 'https://www.youtube.com/watch?v=r2_VWdjxchY&list=UUAuUUnT6oDeKwE6v1NGQxug&index=59&pp=iAQB',\n",
       " 'carlos rodríguez-pastor': 'https://www.youtube.com/watch?v=e1AibqnDvEk&list=UUAuUUnT6oDeKwE6v1NGQxug&index=28&pp=iAQB',\n",
       " 'david burkus': 'https://www.youtube.com/watch?v=CEHKGV9qotM&list=UUAuUUnT6oDeKwE6v1NGQxug&index=8&pp=iAQB',\n",
       " 'natalie cargill': 'https://www.youtube.com/watch?v=k7P9v9NB7fU&list=UUAuUUnT6oDeKwE6v1NGQxug&index=47&pp=iAQB',\n",
       " 'olivia breese': 'https://www.youtube.com/watch?v=24wBKuU2rfE&list=UUAuUUnT6oDeKwE6v1NGQxug&index=68&pp=iAQB',\n",
       " 'aisha nyandoro': 'https://www.youtube.com/watch?v=tPlQGy-9hSI&list=UUAuUUnT6oDeKwE6v1NGQxug&index=17&pp=iAQB',\n",
       " 'misan harriman': 'https://www.youtube.com/watch?v=gyCxZaBboDU&list=UUAuUUnT6oDeKwE6v1NGQxug&index=85&pp=iAQB',\n",
       " 'jordan dinwiddie': 'https://www.youtube.com/watch?v=xzSpuLJoEes&list=UUAuUUnT6oDeKwE6v1NGQxug&index=30&pp=iAQB',\n",
       " 'simon stiell': 'https://www.youtube.com/watch?v=kioUmpJQbKM&list=UUAuUUnT6oDeKwE6v1NGQxug&index=83&pp=iAQB',\n",
       " 'stuart kauffman': 'https://www.youtube.com/watch?v=nEtATZePGmg&list=UUAuUUnT6oDeKwE6v1NGQxug&index=65&pp=iAQB',\n",
       " 'andrew leland': 'https://www.youtube.com/watch?v=8BkSaau8axA&list=UUAuUUnT6oDeKwE6v1NGQxug&index=86&pp=iAQB',\n",
       " 'changhua wu': 'https://www.youtube.com/watch?v=07biEb3rCa0&list=UUAuUUnT6oDeKwE6v1NGQxug&index=50&pp=iAQB',\n",
       " 'lucas rizzotto': 'https://www.youtube.com/watch?v=RkoaaVo_RgU&list=UUAuUUnT6oDeKwE6v1NGQxug&index=84&pp=iAQB',\n",
       " 'garry cooper': 'https://www.youtube.com/watch?v=vvIP7vabO4c&list=UUAuUUnT6oDeKwE6v1NGQxug&index=88&pp=iAQB',\n",
       " 'nicole rycroft': 'https://www.youtube.com/watch?v=PJkoLzVNAEY&list=UUAuUUnT6oDeKwE6v1NGQxug&index=95&pp=iAQB',\n",
       " 'anika goss': 'https://www.youtube.com/watch?v=T8qVFOK_rK8&list=UUAuUUnT6oDeKwE6v1NGQxug&index=96&pp=iAQB',\n",
       " 'taylor cassidy': 'https://www.youtube.com/watch?v=nh4N5GBB390&list=UUAuUUnT6oDeKwE6v1NGQxug&index=71&pp=iAQB',\n",
       " 'steve presley': 'https://www.youtube.com/watch?v=jxy4j0OndPM&list=UUAuUUnT6oDeKwE6v1NGQxug&index=87&pp=iAQB',\n",
       " 'sarah aviram': 'https://www.youtube.com/watch?v=cCGoITBH2IU&list=UUAuUUnT6oDeKwE6v1NGQxug&index=52&pp=iAQB',\n",
       " 'sarah jones': 'https://www.youtube.com/watch?v=H8kr_V3fEGA&list=UUAuUUnT6oDeKwE6v1NGQxug&index=13&pp=iAQB',\n",
       " 'ersin han ersin': 'https://www.youtube.com/watch?v=Vue9SlKTaTg&list=UUAuUUnT6oDeKwE6v1NGQxug&index=67&pp=iAQB',\n",
       " 'roy wood jr.': 'https://www.youtube.com/watch?v=f4m65_6sifs&list=UUAuUUnT6oDeKwE6v1NGQxug&index=6&pp=iAQB',\n",
       " 'oleksandra matviichuk': 'https://www.youtube.com/watch?v=lpCPRE3oSTE&list=UUAuUUnT6oDeKwE6v1NGQxug&index=12&pp=iAQB',\n",
       " 'k allado-mcdowell': 'https://www.youtube.com/watch?v=gY5GA_L9NXM&list=UUAuUUnT6oDeKwE6v1NGQxug&index=55&pp=iAQB',\n",
       " 'amy powney': 'https://www.youtube.com/watch?v=xnPaaxytfGs&list=UUAuUUnT6oDeKwE6v1NGQxug&index=27&pp=iAQB',\n",
       " 'emma nehrenheim': 'https://www.youtube.com/watch?v=Rr7iEH3eeQo&list=UUAuUUnT6oDeKwE6v1NGQxug&index=2&pp=iAQB',\n",
       " 'asmeret asefaw berhe': 'https://www.youtube.com/watch?v=RB0zvhRZu-0&list=UUAuUUnT6oDeKwE6v1NGQxug&index=18&pp=iAQB',\n",
       " 'tavares strachan': 'https://www.youtube.com/watch?v=yRWf28j7yVQ&list=UUAuUUnT6oDeKwE6v1NGQxug&index=29&pp=iAQB',\n",
       " 'sarah kay': 'https://www.youtube.com/watch?v=NRv7r5aKgOc&list=UUAuUUnT6oDeKwE6v1NGQxug&index=19&pp=iAQB',\n",
       " 'bo cerup-simonsen': 'https://www.youtube.com/watch?v=mvRoOyY40yI&list=UUAuUUnT6oDeKwE6v1NGQxug&index=62&pp=iAQB',\n",
       " 'wanjira mathai': 'https://www.youtube.com/watch?v=0VP-CjYHqJA&list=UUAuUUnT6oDeKwE6v1NGQxug&index=90&pp=iAQB',\n",
       " 'sandersan onie': 'https://www.youtube.com/watch?v=vi1Cun6mnVM&list=UUAuUUnT6oDeKwE6v1NGQxug&index=77&pp=iAQB',\n",
       " 'morten bo christiansen': 'https://www.youtube.com/watch?v=MeSJjSJB8hs&list=UUAuUUnT6oDeKwE6v1NGQxug&index=63&pp=iAQB',\n",
       " 'tolliver': 'https://www.youtube.com/watch?v=Ay92O1lUfqI&list=UUAuUUnT6oDeKwE6v1NGQxug&index=75&pp=iAQB',\n",
       " 'jim whitaker and jessica whitaker allen': 'https://www.youtube.com/watch?v=w7n1oYtMdEY&list=UUAuUUnT6oDeKwE6v1NGQxug&index=10&pp=iAQB',\n",
       " 'piyachart phiromswad': 'https://www.youtube.com/watch?v=B8dBA3klR0o&list=UUAuUUnT6oDeKwE6v1NGQxug&index=22&pp=iAQB',\n",
       " 'rebecca collyer': 'https://www.youtube.com/watch?v=RX8jJ9dfMuQ&list=UUAuUUnT6oDeKwE6v1NGQxug&index=45&pp=iAQB',\n",
       " 'david lammy and justin j. pearson': 'https://www.youtube.com/watch?v=qcmNFKr-Qyk&list=UUAuUUnT6oDeKwE6v1NGQxug&index=92&pp=iAQB',\n",
       " 'how to be a better human': 'https://www.youtube.com/watch?v=oCgewIIKbSA&list=UUAuUUnT6oDeKwE6v1NGQxug&index=60&pp=iAQB',\n",
       " 'kala constantino': 'https://www.youtube.com/watch?v=YOHpH4ZExWQ&list=UUAuUUnT6oDeKwE6v1NGQxug&index=46&pp=iAQB',\n",
       " 'lucy mcbath': 'https://www.youtube.com/watch?v=oQ7x0OJEPNM&list=UUAuUUnT6oDeKwE6v1NGQxug&index=7&pp=iAQB',\n",
       " 'payton m. wilkins': 'https://www.youtube.com/watch?v=HEkmWdapz4c&list=UUAuUUnT6oDeKwE6v1NGQxug&index=15&pp=iAQB',\n",
       " 'paul hawken': 'https://www.youtube.com/watch?v=9rAASsSL3gM&list=UUAuUUnT6oDeKwE6v1NGQxug&index=1&pp=iAQB'}"
      ]
     },
     "execution_count": 10,
     "metadata": {},
     "output_type": "execute_result"
    }
   ],
   "source": [
    "link_dict={k:v for k,v in zip(df.presenter,df.link)}"
   ]
  },
  {
   "cell_type": "code",
   "execution_count": 2,
   "metadata": {},
   "outputs": [],
   "source": [
    "from elevenlabs import clone, Voice, voices\n",
    "\n",
    "def list_cloned_voices():\n",
    "    global voice_dict\n",
    "    result=voices()\n",
    "    voice_dict={i.name:i.voice_id for i in [v for v in result.voices] if i.category=='cloned'}\n",
    "    return voice_dict"
   ]
  },
  {
   "cell_type": "code",
   "execution_count": 3,
   "metadata": {},
   "outputs": [],
   "source": [
    "result=voices().voices"
   ]
  },
  {
   "cell_type": "code",
   "execution_count": 11,
   "metadata": {},
   "outputs": [],
   "source": [
    "for i in result:\n",
    "    if i.category!='premade':\n",
    "        print(i)"
   ]
  },
  {
   "cell_type": "code",
   "execution_count": 14,
   "metadata": {},
   "outputs": [],
   "source": [
    "import streamlit as st\n",
    "from elevenlabs import generate, play, save, set_api_key\n",
    "set_api_key(st.secrets[\"ELEVENLABS_API_KEY\"])"
   ]
  },
  {
   "cell_type": "code",
   "execution_count": 15,
   "metadata": {},
   "outputs": [],
   "source": [
    "def list_cloned_voices():\n",
    "    set_api_key(st.secrets[\"ELEVENLABS_API_KEY\"])\n",
    "    global voice_dict\n",
    "    result=voices()\n",
    "    voice_dict={i.name:i.voice_id for i in [v for v in result.voices] if i.category=='cloned'}\n",
    "    return voice_dict"
   ]
  },
  {
   "cell_type": "code",
   "execution_count": 23,
   "metadata": {},
   "outputs": [],
   "source": [
    "cloned_dict=list_cloned_voices()\n",
    "cloned_names=list(cloned_dict.keys())\n",
    "cloned_names_caps=capitalize_names(cloned_names)"
   ]
  },
  {
   "cell_type": "code",
   "execution_count": 20,
   "metadata": {},
   "outputs": [],
   "source": [
    "from utils import *\n"
   ]
  },
  {
   "cell_type": "code",
   "execution_count": 22,
   "metadata": {},
   "outputs": [
    {
     "data": {
      "text/plain": [
       "['Barbara F. Walter',\n",
       " 'Ray Dalio',\n",
       " 'Al Gore',\n",
       " 'Rebecca Collyer',\n",
       " 'Ian Bremmer',\n",
       " 'Stephen Wolfram',\n",
       " 'Michael Sheen',\n",
       " 'Luis Von Ahn',\n",
       " 'Anna Greka',\n",
       " 'Ramón Méndez Galain',\n",
       " 'Dalai Lama',\n",
       " 'Avinash Persaud',\n",
       " 'Maya Shankar',\n",
       " 'Alexandr Wang']"
      ]
     },
     "execution_count": 22,
     "metadata": {},
     "output_type": "execute_result"
    }
   ],
   "source": [
    "capitalize_names(cloned_names)"
   ]
  },
  {
   "cell_type": "code",
   "execution_count": null,
   "metadata": {},
   "outputs": [],
   "source": [
    "# Create a page that allows the user to select a voice that is cloned already\n",
    "## Drop down list of cloned presenters\n",
    "## Text input"
   ]
  }
 ],
 "metadata": {
  "kernelspec": {
   "display_name": "Python 3",
   "language": "python",
   "name": "python3"
  },
  "language_info": {
   "codemirror_mode": {
    "name": "ipython",
    "version": 3
   },
   "file_extension": ".py",
   "mimetype": "text/x-python",
   "name": "python",
   "nbconvert_exporter": "python",
   "pygments_lexer": "ipython3",
   "version": "3.11.6"
  }
 },
 "nbformat": 4,
 "nbformat_minor": 2
}
